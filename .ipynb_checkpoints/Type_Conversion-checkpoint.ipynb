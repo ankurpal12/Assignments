{
 "cells": [
  {
   "cell_type": "code",
   "execution_count": 13,
   "id": "e004becf-70a9-4d0c-9dbe-b97c6c9ddf09",
   "metadata": {},
   "outputs": [
    {
     "name": "stdout",
     "output_type": "stream",
     "text": [
      "123456\n",
      "<class 'int'>\n",
      "123456.0\n",
      "<class 'float'>\n"
     ]
    }
   ],
   "source": [
    "#1 Convert an Integer to a floating -point number.\n",
    "\n",
    "a = 123456\n",
    "print(a)\n",
    "print(type(a))\n",
    "c = float(a)\n",
    "print(c)\n",
    "print(type(c))\n",
    "\n",
    "#Insights >> a is an integer, after using float function 'a' converted into floating point no. & store in c.\n"
   ]
  },
  {
   "cell_type": "code",
   "execution_count": 16,
   "id": "94d10d4f-6bca-4bb2-b412-00ce88cc4969",
   "metadata": {},
   "outputs": [
    {
     "name": "stdout",
     "output_type": "stream",
     "text": [
      "33.66\n",
      "<class 'float'>\n",
      "33\n",
      "<class 'int'>\n"
     ]
    }
   ],
   "source": [
    "#2 Convert a float to an integer.\n",
    "\n",
    "x = 33.66\n",
    "print(x)\n",
    "print(type(x))\n",
    "y = int(x)\n",
    "print(y)\n",
    "print(type(y))\n",
    "\n",
    "#insights >> 'x' is an float no. , after using intger func 'x' converted into integer."
   ]
  },
  {
   "cell_type": "code",
   "execution_count": 19,
   "id": "90035d66-bdbd-4352-8666-b57e73337813",
   "metadata": {},
   "outputs": [
    {
     "name": "stdout",
     "output_type": "stream",
     "text": [
      "3366\n",
      "<class 'int'>\n",
      "3366\n",
      "<class 'str'>\n"
     ]
    }
   ],
   "source": [
    "#3 Convert an integer to a string.\n",
    "\n",
    "t = 3366\n",
    "print(t)\n",
    "print(type(t))\n",
    "u = str(t)\n",
    "print(u)\n",
    "print(type(u))\n",
    "\n",
    "#insights >> t is an intger no. , after using string func 't' converted into string."
   ]
  },
  {
   "cell_type": "code",
   "execution_count": 22,
   "id": "fabbd0b5-f2b2-4082-8103-7b45cc031410",
   "metadata": {},
   "outputs": [
    {
     "name": "stdout",
     "output_type": "stream",
     "text": [
      "[1, 2, 3, 4, 5]\n",
      "<class 'list'>\n",
      "(1, 2, 3, 4, 5)\n",
      "<class 'tuple'>\n"
     ]
    }
   ],
   "source": [
    "#4 Convert a list to a tuple.\n",
    "\n",
    "i = [1,2,3,4,5]\n",
    "print(i)\n",
    "print(type(i))\n",
    "j = tuple(i)\n",
    "print(j)\n",
    "print(type(j))\n",
    "\n",
    "#insights >> i is a list. after using tuple func 'i' converted into tuple."
   ]
  },
  {
   "cell_type": "code",
   "execution_count": 4,
   "id": "799629e2-902d-4930-a75c-576e50ac31fb",
   "metadata": {},
   "outputs": [
    {
     "name": "stdout",
     "output_type": "stream",
     "text": [
      "('abcd', 1, 2, 3, 4)\n",
      "<class 'tuple'>\n",
      "['abcd', 1, 2, 3, 4]\n",
      "<class 'list'>\n"
     ]
    }
   ],
   "source": [
    "#5 Convert a tuple to a list.\n",
    "\n",
    "a = (\"abcd\",1,2,3,4)\n",
    "print(a)\n",
    "print(type(a))\n",
    "b = list(a)\n",
    "print(b)\n",
    "print(type(b))\n",
    "\n",
    "#Insights >> a is a tuple. after using list func 'b' converted into list."
   ]
  },
  {
   "cell_type": "code",
   "execution_count": 2,
   "id": "2750e73c-33e5-4b48-ba50-9757c510a495",
   "metadata": {},
   "outputs": [
    {
     "name": "stdout",
     "output_type": "stream",
     "text": [
      "33.99\n",
      "<class 'float'>\n",
      "0b100001\n"
     ]
    }
   ],
   "source": [
    "#6 Convert a decimal number to binary.\n",
    "\n",
    "x = 33.99\n",
    "print(x)\n",
    "print(type(x))\n",
    "p = int(x)\n",
    "y = bin(p)\n",
    "print(y)\n",
    "\n",
    "#Insights >> x is an decimal no., after converting 'x' into integer 'p' . then 'p' integer is converted into binary using bin func. "
   ]
  },
  {
   "cell_type": "code",
   "execution_count": 6,
   "id": "91d22faf-50c2-4858-bd0d-a5ffe7b41deb",
   "metadata": {},
   "outputs": [
    {
     "name": "stdout",
     "output_type": "stream",
     "text": [
      "27\n",
      "<class 'int'>\n",
      "True\n",
      "<class 'bool'>\n"
     ]
    }
   ],
   "source": [
    "#7 Convert a non-zero number to boolean.\n",
    "\n",
    "i = 27\n",
    "print(i)\n",
    "print(type(i))\n",
    "j = bool(i)\n",
    "print(j)\n",
    "print(type(j))\n",
    "\n",
    "#insights >> i is an non-zero no., after using bool func 'i' converted into boolean.\n"
   ]
  },
  {
   "cell_type": "code",
   "execution_count": null,
   "id": "2dcd2c64-cdf1-4e02-a3b7-0f32aba51039",
   "metadata": {},
   "outputs": [],
   "source": [
    "# Thank You"
   ]
  }
 ],
 "metadata": {
  "kernelspec": {
   "display_name": "Python 3 (ipykernel)",
   "language": "python",
   "name": "python3"
  },
  "language_info": {
   "codemirror_mode": {
    "name": "ipython",
    "version": 3
   },
   "file_extension": ".py",
   "mimetype": "text/x-python",
   "name": "python",
   "nbconvert_exporter": "python",
   "pygments_lexer": "ipython3",
   "version": "3.10.8"
  }
 },
 "nbformat": 4,
 "nbformat_minor": 5
}
