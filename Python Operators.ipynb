{
 "cells": [
  {
   "cell_type": "code",
   "execution_count": 5,
   "id": "144e2371-27fd-4b1c-b04d-112631da4beb",
   "metadata": {},
   "outputs": [
    {
     "name": "stdout",
     "output_type": "stream",
     "text": [
      "sum of both the no.\n",
      "45\n",
      "difference of both the no.\n",
      "21\n",
      "product of both the no.\n",
      "396\n",
      "quotient of both the no.\n",
      "2.75\n"
     ]
    }
   ],
   "source": [
    "#1 Calculate the sum, difference, product, and quotient of two numbers.\n",
    "\n",
    "x = 33\n",
    "y = 12\n",
    "print(\"sum of both the no.\")\n",
    "print(x+y)\n",
    "\n",
    "print(\"difference of both the no.\")\n",
    "print(x-y)\n",
    "\n",
    "print(\"product of both the no.\")\n",
    "print(x*y)\n",
    "\n",
    "print(\"quotient of both the no.\")\n",
    "print(x/y)"
   ]
  },
  {
   "cell_type": "code",
   "execution_count": 8,
   "id": "a87c6fb5-fea3-4606-8068-40d66fffff9d",
   "metadata": {},
   "outputs": [
    {
     "name": "stdout",
     "output_type": "stream",
     "text": [
      "12\n",
      "6\n",
      "2.0\n",
      "18.0\n"
     ]
    }
   ],
   "source": [
    "#2 Perform various assignment operations on a variable.\n",
    "\n",
    "a = 9\n",
    "a+=3\n",
    "print(a)\n",
    "a-=6\n",
    "print(a)\n",
    "a/=3\n",
    "print(a)\n",
    "a*=9\n",
    "print(a)"
   ]
  },
  {
   "cell_type": "code",
   "execution_count": 16,
   "id": "9c80c049-9cc4-4d1d-aa68-954275d06ae2",
   "metadata": {},
   "outputs": [
    {
     "name": "stdout",
     "output_type": "stream",
     "text": [
      "False\n",
      "True\n",
      "False\n",
      "True\n"
     ]
    }
   ],
   "source": [
    "#3 Compare two numbers and print the results.\n",
    "\n",
    "i = 12\n",
    "j = 45\n",
    "\n",
    "print(i==j)\n",
    "\n",
    "print(i<=j)\n",
    "\n",
    "print(i>=j)\n",
    "\n",
    "print(i!=j)"
   ]
  },
  {
   "cell_type": "code",
   "execution_count": 12,
   "id": "81197d0c-3818-4970-a27b-66f130e29a48",
   "metadata": {},
   "outputs": [
    {
     "name": "stdout",
     "output_type": "stream",
     "text": [
      "True\n",
      "False\n",
      "True\n",
      "False\n",
      "True\n",
      "False\n"
     ]
    }
   ],
   "source": [
    "#4 Check conditions using logical operators.\n",
    "\n",
    "#and operator\n",
    "a = 12\n",
    "print(a<=15 and a==12)\n",
    "print(a<=7 and a<=10)\n",
    "\n",
    "#or operator\n",
    "b = 15\n",
    "print(b>=7 or b==12)\n",
    "print(b>=18 or b<=9)\n",
    "\n",
    "c = 12 \n",
    "d = 18\n",
    "print(not d>=21)\n",
    "print(not c<=16)\n",
    "#insights >> 1. In 'and' operator if both condition are 'true'then result is 'true'.other 'false'\n",
    "            #2. In 'or' operator if both condition are false then result is false. otherwise true\n",
    "            #3. In 'not' opertor if condition is true then result is false & vice versa.\n",
    "\n"
   ]
  },
  {
   "cell_type": "code",
   "execution_count": 2,
   "id": "9800a7ed-5d29-46a3-b9e7-0a00ecea9929",
   "metadata": {},
   "outputs": [
    {
     "name": "stdout",
     "output_type": "stream",
     "text": [
      "False\n",
      "True\n"
     ]
    }
   ],
   "source": [
    "#5 Check the identity of variables.\n",
    "\n",
    "t = [\"jack\",\"kabir\",\"prashant\"]\n",
    "p = t\n",
    "q = p\n",
    "result1 = p is not t\n",
    "result2 = q is t\n",
    "print(result1)\n",
    "print(result2)\n",
    "\n"
   ]
  },
  {
   "cell_type": "code",
   "execution_count": 25,
   "id": "590e2225-b15b-4652-b33b-d80bb59822ef",
   "metadata": {},
   "outputs": [
    {
     "data": {
      "text/plain": [
       "8"
      ]
     },
     "execution_count": 25,
     "metadata": {},
     "output_type": "execute_result"
    }
   ],
   "source": [
    "#6 Perform bitwise operations on any two integers.\n",
    "\n",
    "# & operator\n",
    "12 & 90"
   ]
  },
  {
   "cell_type": "code",
   "execution_count": 28,
   "id": "80a12a87-51e9-48ae-ae52-3aa0c91a4837",
   "metadata": {},
   "outputs": [
    {
     "name": "stdout",
     "output_type": "stream",
     "text": [
      "0b1100\n",
      "0b1011010\n"
     ]
    }
   ],
   "source": [
    "print(bin(12))\n",
    "print(bin(90))"
   ]
  },
  {
   "cell_type": "code",
   "execution_count": 29,
   "id": "d2167a38-8254-45d0-9b2f-47b3dc24ca92",
   "metadata": {},
   "outputs": [
    {
     "data": {
      "text/plain": [
       "'0b1000'"
      ]
     },
     "execution_count": 29,
     "metadata": {},
     "output_type": "execute_result"
    }
   ],
   "source": [
    "bin(8)"
   ]
  },
  {
   "cell_type": "code",
   "execution_count": 30,
   "id": "4a0a6aad-f28a-4297-a3d0-6ba016b905bf",
   "metadata": {},
   "outputs": [
    {
     "data": {
      "text/plain": [
       "8"
      ]
     },
     "execution_count": 30,
     "metadata": {},
     "output_type": "execute_result"
    }
   ],
   "source": [
    "0b1000"
   ]
  },
  {
   "cell_type": "code",
   "execution_count": 31,
   "id": "44cef36d-662d-4b50-a4f7-2c14cf0daff3",
   "metadata": {},
   "outputs": [
    {
     "data": {
      "text/plain": [
       "94"
      ]
     },
     "execution_count": 31,
     "metadata": {},
     "output_type": "execute_result"
    }
   ],
   "source": [
    "# or | operator\n",
    "12 | 90"
   ]
  },
  {
   "cell_type": "code",
   "execution_count": 32,
   "id": "27506d3d-2395-4ea1-9e15-8dcbce53a9f3",
   "metadata": {},
   "outputs": [
    {
     "data": {
      "text/plain": [
       "'0b1011110'"
      ]
     },
     "execution_count": 32,
     "metadata": {},
     "output_type": "execute_result"
    }
   ],
   "source": [
    "bin(94)"
   ]
  },
  {
   "cell_type": "code",
   "execution_count": 33,
   "id": "31a907dd-1d56-4110-ac0e-dbc3610e7601",
   "metadata": {},
   "outputs": [
    {
     "data": {
      "text/plain": [
       "86"
      ]
     },
     "execution_count": 33,
     "metadata": {},
     "output_type": "execute_result"
    }
   ],
   "source": [
    "# xor (^) operator\n",
    "12^90\n",
    "\n",
    "# Insights >> it return exactly 1  if there is 1 operator."
   ]
  },
  {
   "cell_type": "code",
   "execution_count": 34,
   "id": "4b74d850-1928-4350-9e8b-2d5a33f644ea",
   "metadata": {},
   "outputs": [
    {
     "data": {
      "text/plain": [
       "'0b1010110'"
      ]
     },
     "execution_count": 34,
     "metadata": {},
     "output_type": "execute_result"
    }
   ],
   "source": [
    "bin(86)"
   ]
  },
  {
   "cell_type": "code",
   "execution_count": 35,
   "id": "db264055-31e0-45fb-bc42-ee98a1c29419",
   "metadata": {},
   "outputs": [
    {
     "data": {
      "text/plain": [
       "-79"
      ]
     },
     "execution_count": 35,
     "metadata": {},
     "output_type": "execute_result"
    }
   ],
   "source": [
    "# negation operator (~)\n",
    "\n",
    "~78"
   ]
  },
  {
   "cell_type": "code",
   "execution_count": 1,
   "id": "7bd1606f-18f5-42ec-a32e-f6f4d55387bc",
   "metadata": {},
   "outputs": [
    {
     "data": {
      "text/plain": [
       "360"
      ]
     },
     "execution_count": 1,
     "metadata": {},
     "output_type": "execute_result"
    }
   ],
   "source": [
    "# Left shift Operator\n",
    "\n",
    "45 << 3\n",
    "\n",
    "#Insights >> Left shift operator put no. of zero on right side."
   ]
  },
  {
   "cell_type": "code",
   "execution_count": 2,
   "id": "9ca1c971-bd78-42df-86f3-5293893dec88",
   "metadata": {},
   "outputs": [
    {
     "name": "stdout",
     "output_type": "stream",
     "text": [
      "0b101101\n",
      "0b101101000\n"
     ]
    }
   ],
   "source": [
    "print(bin(45))\n",
    "print(bin(360))"
   ]
  },
  {
   "cell_type": "code",
   "execution_count": 3,
   "id": "8a8ccca4-1375-48d7-968c-31337606e72b",
   "metadata": {},
   "outputs": [
    {
     "data": {
      "text/plain": [
       "8"
      ]
     },
     "execution_count": 3,
     "metadata": {},
     "output_type": "execute_result"
    }
   ],
   "source": [
    "#Right Shift Operator\n",
    "33 >> 2\n",
    "\n",
    "#Insights >> Right shift operator remove no. of elements in value."
   ]
  },
  {
   "cell_type": "code",
   "execution_count": 5,
   "id": "dab5623f-afff-4d5a-aa36-247c5567bd68",
   "metadata": {},
   "outputs": [
    {
     "name": "stdout",
     "output_type": "stream",
     "text": [
      "0b100001\n",
      "0b1000\n"
     ]
    }
   ],
   "source": [
    "print(bin(33))\n",
    "print(bin(8))"
   ]
  },
  {
   "cell_type": "code",
   "execution_count": 5,
   "id": "83346591-ce78-4f01-a459-ae09200c6911",
   "metadata": {},
   "outputs": [
    {
     "name": "stdin",
     "output_type": "stream",
     "text": [
      "Enter a Number -24\n"
     ]
    },
    {
     "name": "stdout",
     "output_type": "stream",
     "text": [
      "24.0\n"
     ]
    }
   ],
   "source": [
    "#7 Use unary operators to change the sign of a number.\n",
    "\n",
    "a = float(input(\"Enter a Number\"))\n",
    "b = -a\n",
    "print(b)\n"
   ]
  },
  {
   "cell_type": "code",
   "execution_count": 7,
   "id": "7d8ca8b1-294b-44eb-b7ab-66a6b8b15181",
   "metadata": {},
   "outputs": [
    {
     "name": "stdin",
     "output_type": "stream",
     "text": [
      "write a number 24\n",
      "write another number 45\n"
     ]
    },
    {
     "name": "stdout",
     "output_type": "stream",
     "text": [
      "24\n"
     ]
    }
   ],
   "source": [
    "#8 Use the ternary operator to assign @al$es based on conditions.\n",
    "x = input(\"write a number\")\n",
    "y = input(\"write another number\")\n",
    "\n",
    "min_value = x if x<y else y\n",
    "\n",
    "print(min_value)\n"
   ]
  },
  {
   "cell_type": "code",
   "execution_count": null,
   "id": "a1c43114-0b1c-465f-9b18-add464537985",
   "metadata": {},
   "outputs": [],
   "source": []
  }
 ],
 "metadata": {
  "kernelspec": {
   "display_name": "Python 3 (ipykernel)",
   "language": "python",
   "name": "python3"
  },
  "language_info": {
   "codemirror_mode": {
    "name": "ipython",
    "version": 3
   },
   "file_extension": ".py",
   "mimetype": "text/x-python",
   "name": "python",
   "nbconvert_exporter": "python",
   "pygments_lexer": "ipython3",
   "version": "3.10.8"
  }
 },
 "nbformat": 4,
 "nbformat_minor": 5
}
